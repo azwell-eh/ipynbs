{
  "nbformat": 4,
  "nbformat_minor": 0,
  "metadata": {
    "colab": {
      "provenance": [],
      "mount_file_id": "1zQpfVRfyQ3W3TGdIUtJHUJsabFylvPI3",
      "authorship_tag": "ABX9TyPGm3s6KyCGUnMOKT6qpp2F",
      "include_colab_link": true
    },
    "kernelspec": {
      "name": "python3",
      "display_name": "Python 3"
    },
    "language_info": {
      "name": "python"
    }
  },
  "cells": [
    {
      "cell_type": "markdown",
      "metadata": {
        "id": "view-in-github",
        "colab_type": "text"
      },
      "source": [
        "<a href=\"https://colab.research.google.com/github/azwell-eh/ipynbs/blob/main/mp3_convert.ipynb\" target=\"_parent\"><img src=\"https://colab.research.google.com/assets/colab-badge.svg\" alt=\"Open In Colab\"/></a>"
      ]
    },
    {
      "cell_type": "code",
      "execution_count": null,
      "metadata": {
        "id": "EKSambNdTnZd"
      },
      "outputs": [],
      "source": [
        "# Mp3 tag data 수정에 관한 코딩"
      ]
    },
    {
      "cell_type": "code",
      "source": [
        "pip install mutagen\n"
      ],
      "metadata": {
        "colab": {
          "base_uri": "https://localhost:8080/"
        },
        "id": "WvMbpnwmUtmD",
        "outputId": "73e74704-588e-4404-94b8-c1a503bae301"
      },
      "execution_count": null,
      "outputs": [
        {
          "output_type": "stream",
          "name": "stdout",
          "text": [
            "Collecting mutagen\n",
            "  Downloading mutagen-1.47.0-py3-none-any.whl.metadata (1.7 kB)\n",
            "Downloading mutagen-1.47.0-py3-none-any.whl (194 kB)\n",
            "\u001b[?25l   \u001b[90m━━━━━━━━━━━━━━━━━━━━━━━━━━━━━━━━━━━━━━━━\u001b[0m \u001b[32m0.0/194.4 kB\u001b[0m \u001b[31m?\u001b[0m eta \u001b[36m-:--:--\u001b[0m\r\u001b[2K   \u001b[90m━━━━━━━━━━━━━━━━━━━━━━━━━━━━━━━━━━━━━━━━\u001b[0m \u001b[32m194.4/194.4 kB\u001b[0m \u001b[31m6.1 MB/s\u001b[0m eta \u001b[36m0:00:00\u001b[0m\n",
            "\u001b[?25hInstalling collected packages: mutagen\n",
            "Successfully installed mutagen-1.47.0\n"
          ]
        }
      ]
    },
    {
      "cell_type": "code",
      "source": [
        "from mutagen.easyid3 import EasyID3\n",
        "from mutagen.mp3 import MP3\n",
        "\n",
        "\n",
        "\n",
        "def read_mp3_metadata(file_path):\n",
        "    try:\n",
        "        audio = MP3(file_path, ID3=EasyID3)\n",
        "        print(f\"파일: {file_path}\")\n",
        "        for key, value in audio.items():\n",
        "            print(f\"{key}: {value}\")\n",
        "    except Exception as e:\n",
        "        print(f\"메타데이터를 읽는 중 오류 발생: {e}\")\n",
        "\n",
        "# 예시\n",
        "meta_data = read_mp3_metadata(\"/content/drive/MyDrive/sample_data/1-01 Sticky.mp3\")\n"
      ],
      "metadata": {
        "colab": {
          "base_uri": "https://localhost:8080/"
        },
        "id": "lpwBp4S6Uzg5",
        "outputId": "31aaf97d-1727-43b7-967f-382195ac921a"
      },
      "execution_count": null,
      "outputs": [
        {
          "output_type": "stream",
          "name": "stdout",
          "text": [
            "파일: /content/drive/MyDrive/sample_data/1-01 Sticky.mp3\n",
            "album: ['Bugs2501']\n",
            "title: ['Sticky']\n",
            "artist: ['KISS OF LIFE']\n",
            "albumartist: ['Various Artists']\n",
            "discnumber: ['1']\n",
            "tracknumber: ['1']\n",
            "genre: ['팝 > 댄스 팝']\n",
            "date: ['2024']\n"
          ]
        }
      ]
    },
    {
      "cell_type": "code",
      "source": [
        "from mutagen.easyid3 import EasyID3\n",
        "\n",
        "def edit_mp3_metadata(file_path, metadata: dict):\n",
        "    try:\n",
        "        audio = EasyID3(file_path)\n",
        "        for key, value in metadata.items():\n",
        "            audio[key] = value\n",
        "        audio.save()\n",
        "        print(f\"메타데이터 수정 완료: {file_path}\")\n",
        "    except Exception as e:\n",
        "        print(f\"수정 중 오류 발생: {e}\")\n",
        "\n",
        "# 예시: 앨범, 제목, 아티스트 변경\n",
        "metadata = {\n",
        "    \"album\": \"My Custom Album\",\n",
        "    \"title\": \"New Song Title\",\n",
        "    \"artist\": \"Jascob\"\n",
        "}\n",
        "\n",
        "edit_mp3_metadata(\"sample.mp3\", metadata)\n"
      ],
      "metadata": {
        "id": "Yh2rs3tsV96p"
      },
      "execution_count": null,
      "outputs": []
    },
    {
      "cell_type": "code",
      "source": [
        "print(EasyID3.valid_keys.keys())"
      ],
      "metadata": {
        "colab": {
          "base_uri": "https://localhost:8080/"
        },
        "id": "37e1nS2vVapY",
        "outputId": "68ccc48d-8aae-438a-ab95-957cb73f0f71"
      },
      "execution_count": null,
      "outputs": [
        {
          "output_type": "stream",
          "name": "stdout",
          "text": [
            "dict_keys(['album', 'bpm', 'compilation', 'composer', 'copyright', 'encodedby', 'lyricist', 'length', 'media', 'mood', 'grouping', 'title', 'version', 'artist', 'albumartist', 'conductor', 'arranger', 'discnumber', 'organization', 'tracknumber', 'author', 'albumartistsort', 'albumsort', 'composersort', 'artistsort', 'titlesort', 'isrc', 'discsubtitle', 'language', 'genre', 'date', 'originaldate', 'performer:*', 'musicbrainz_trackid', 'website', 'replaygain_*_gain', 'replaygain_*_peak', 'musicbrainz_artistid', 'musicbrainz_albumid', 'musicbrainz_albumartistid', 'musicbrainz_trmid', 'musicip_puid', 'musicip_fingerprint', 'musicbrainz_albumstatus', 'musicbrainz_albumtype', 'releasecountry', 'musicbrainz_discid', 'asin', 'performer', 'barcode', 'catalognumber', 'musicbrainz_releasetrackid', 'musicbrainz_releasegroupid', 'musicbrainz_workid', 'acoustid_fingerprint', 'acoustid_id'])\n"
          ]
        }
      ]
    },
    {
      "cell_type": "markdown",
      "source": [
        "사용 가능한 주요 메타데이터 키 목록 (EasyID3 기준):\n",
        "\n",
        "\"title\" – 곡 제목\n",
        "\n",
        "\"artist\" – 아티스트\n",
        "\n",
        "\"album\" – 앨범 이름\n",
        "\n",
        "\"albumartist\" – 앨범 아티스트\n",
        "\n",
        "\"genre\" – 장르\n",
        "\n",
        "\"date\" – 날짜\n",
        "\n",
        "\"tracknumber\" – 트랙 번호\n",
        "\n",
        "\"composer\" – 작곡가\n",
        "\n",
        "\"lyricist\" – 작사가"
      ],
      "metadata": {
        "id": "JGJp2X1zWSMn"
      }
    },
    {
      "cell_type": "code",
      "source": [
        "# 특정 디렉토리의 모든 MP3 파일 조회\n",
        "import os\n",
        "from mutagen.easyid3 import EasyID3\n",
        "from mutagen.mp3 import MP3\n",
        "\n",
        "def read_metadata_from_directory(directory_path):\n",
        "    for root, dirs, files in os.walk(directory_path):\n",
        "        for file in files:\n",
        "            if file.lower().endswith(\".mp3\"):\n",
        "                file_path = os.path.join(root, file)\n",
        "                try:\n",
        "                    audio = MP3(file_path, ID3=EasyID3)\n",
        "                    print(f\"\\n📄 파일: {file}\")\n",
        "                    for key, value in audio.items():\n",
        "                        print(f\"  {key}: {value}\")\n",
        "                except Exception as e:\n",
        "                    print(f\"  오류 발생 - {file}: {e}\")\n",
        "\n",
        "# 예시\n",
        "read_metadata_from_directory(\"/path/to/your/mp3/folder\")\n"
      ],
      "metadata": {
        "id": "NVX9V1klWVbv"
      },
      "execution_count": null,
      "outputs": []
    },
    {
      "cell_type": "code",
      "source": [
        "# 특정 디렉토리의 파일을 탐색 하는 코드\n",
        "#파일명은 key , 전체 경로는 value 로 저장\n",
        "\n"
      ],
      "metadata": {
        "id": "G9P4RPXCp_IS"
      },
      "execution_count": null,
      "outputs": []
    },
    {
      "source": [
        "import os\n",
        "\n",
        "def get_file_paths(directory_path):\n",
        "    \"\"\"\n",
        "    특정 디렉토리 내 모든 파일의 전체 경로를 value, 파일명을 key로 갖는 딕셔너리를 반환합니다.\n",
        "\n",
        "    Args:\n",
        "        directory_path (str): 디렉토리 경로\n",
        "\n",
        "    Returns:\n",
        "        dict: 파일명을 key, 전체 경로를 value로 갖는 딕셔너리\n",
        "    \"\"\"\n",
        "    file_paths = {}\n",
        "    for root, _, files in os.walk(directory_path):\n",
        "        for file in files:\n",
        "            file_paths[file] = os.path.join(root, file)  # 전체 경로를 value로 저장\n",
        "    return file_paths\n",
        "\n",
        "# 예시\n",
        "directory_path = \"/content/drive/MyDrive/sample_data\"  # 원하는 디렉토리 경로로 변경\n",
        "file_paths_dict = get_file_paths(directory_path)\n",
        "\n",
        "print(file_paths_dict)\n",
        "\n",
        "# 결과 출력\n",
        "for file_name, file_path in file_paths_dict.items():\n",
        "    print(f\"파일명: {file_name}, 전체 경로: {file_path}\")"
      ],
      "cell_type": "code",
      "metadata": {
        "colab": {
          "base_uri": "https://localhost:8080/"
        },
        "id": "33seLO__qPd0",
        "outputId": "05d0e250-63ad-476c-c0a5-1abdf60ed72f"
      },
      "execution_count": null,
      "outputs": [
        {
          "output_type": "stream",
          "name": "stdout",
          "text": [
            "{'[Playlist] 느낌 좋은 여자아이돌 케이팝 노동요 플레이리스트.mp3': '/content/drive/MyDrive/sample_data/[Playlist] 느낌 좋은 여자아이돌 케이팝 노동요 플레이리스트.mp3', '1-01 Sticky.mp3': '/content/drive/MyDrive/sample_data/1-01 Sticky.mp3'}\n",
            "파일명: [Playlist] 느낌 좋은 여자아이돌 케이팝 노동요 플레이리스트.mp3, 전체 경로: /content/drive/MyDrive/sample_data/[Playlist] 느낌 좋은 여자아이돌 케이팝 노동요 플레이리스트.mp3\n",
            "파일명: 1-01 Sticky.mp3, 전체 경로: /content/drive/MyDrive/sample_data/1-01 Sticky.mp3\n"
          ]
        }
      ]
    },
    {
      "source": [
        "import os\n",
        "\n",
        "def get_file_paths_dict(directory_path):\n",
        "    \"\"\"\n",
        "    특정 디렉토리 내 파일들의 전체 경로를 값으로, 파일명을 키로 가지는 딕셔너리를 반환합니다.\n",
        "\n",
        "    Args:\n",
        "        directory_path (str): 디렉토리 경로\n",
        "\n",
        "    Returns:\n",
        "        dict: 파일명을 키로, 전체 경로를 값으로 가지는 딕셔너리\n",
        "    \"\"\"\n",
        "    file_paths = {}\n",
        "    for root, dirs, files in os.walk(directory_path):\n",
        "        for file in files:\n",
        "            file_path = os.path.join(root, file)  # 전체 경로 생성\n",
        "            file_paths[file] = file_path  # 파일명을 키로, 전체 경로를 값으로 저장\n",
        "    return file_paths\n",
        "\n",
        "# 사용 예시\n",
        "directory_path = \"/content/drive/MyDrive/sample_data\"  # 디렉토리 경로 설정\n",
        "file_paths_dict = get_file_paths_dict(directory_path)\n",
        "print(file_paths_dict)\n",
        "\n",
        "# 결과 출력 (파일명: 전체 경로)\n",
        "for file_name, file_path in file_paths_dict.items():\n",
        "    print(f\"{file_name}: {file_path}\")"
      ],
      "cell_type": "code",
      "metadata": {
        "colab": {
          "base_uri": "https://localhost:8080/"
        },
        "id": "UqlxF9fHqVXq",
        "outputId": "60259c4f-b1f2-4204-eea1-cc5f925c98f3"
      },
      "execution_count": null,
      "outputs": [
        {
          "output_type": "stream",
          "name": "stdout",
          "text": [
            "{'[Playlist] 느낌 좋은 여자아이돌 케이팝 노동요 플레이리스트.mp3': '/content/drive/MyDrive/sample_data/[Playlist] 느낌 좋은 여자아이돌 케이팝 노동요 플레이리스트.mp3', '1-01 Sticky.mp3': '/content/drive/MyDrive/sample_data/1-01 Sticky.mp3'}\n",
            "[Playlist] 느낌 좋은 여자아이돌 케이팝 노동요 플레이리스트.mp3: /content/drive/MyDrive/sample_data/[Playlist] 느낌 좋은 여자아이돌 케이팝 노동요 플레이리스트.mp3\n",
            "1-01 Sticky.mp3: /content/drive/MyDrive/sample_data/1-01 Sticky.mp3\n"
          ]
        }
      ]
    }
  ]
}